{
 "cells": [
  {
   "cell_type": "markdown",
   "metadata": {
    "colab_type": "text",
    "id": "48MgOLJamOVh"
   },
   "source": [
    "Recovery in the Wishart model\n",
    "---\n",
    "We demostrate our recovery method for the spiked Wishart Model (PCA)\n"
   ]
  },
  {
   "cell_type": "code",
   "execution_count": null,
   "metadata": {
    "colab": {},
    "colab_type": "code",
    "id": "E0e7rIuilTSz"
   },
   "outputs": [],
   "source": [
    "import numpy as np\n",
    "import matplotlib.pyplot as plt\n",
    "%matplotlib inline\n",
    "import math\n",
    "import importlib"
   ]
  },
  {
   "cell_type": "code",
   "execution_count": null,
   "metadata": {
    "colab": {
     "base_uri": "https://localhost:8080/",
     "height": 122
    },
    "colab_type": "code",
    "executionInfo": {
     "elapsed": 20790,
     "status": "ok",
     "timestamp": 1591750857026,
     "user": {
      "displayName": "Jorio Cocola",
      "photoUrl": "",
      "userId": "02600605587789438117"
     },
     "user_tz": 240
    },
    "id": "mQd58h-0iLn9",
    "outputId": "7eedb905-ca8a-416c-a93b-442406aefb1a"
   },
   "outputs": [],
   "source": [
    "from google.colab import drive\n",
    "drive.mount('/content/gdrive/')"
   ]
  },
  {
   "cell_type": "code",
   "execution_count": null,
   "metadata": {
    "colab": {},
    "colab_type": "code",
    "id": "YuDNAoXzlTS7"
   },
   "outputs": [],
   "source": [
    "import torch\n",
    "from torch.autograd import Variable\n",
    "import torch.nn as nn\n",
    "import torch.nn.functional as F\n",
    "import torch.utils.data\n",
    "import torch.optim as optim\n",
    "import torchvision\n",
    "from torchvision import datasets, transforms"
   ]
  },
  {
   "cell_type": "code",
   "execution_count": null,
   "metadata": {
    "colab": {},
    "colab_type": "code",
    "id": "vjDRRcfPyYYh"
   },
   "outputs": [],
   "source": [
    "import sys\n",
    "PATH = '/content/gdrive/My Drive/Colab Notebooks/NEURIPS20'\n",
    "sys.path.append(PATH)"
   ]
  },
  {
   "cell_type": "code",
   "execution_count": null,
   "metadata": {
    "colab": {},
    "colab_type": "code",
    "id": "oxWl_kHClTS_"
   },
   "outputs": [],
   "source": [
    "import generative as gnl\n",
    "import utils\n",
    "import spike_lib as spike"
   ]
  },
  {
   "cell_type": "code",
   "execution_count": null,
   "metadata": {
    "colab": {},
    "colab_type": "code",
    "id": "TmRY57hulTTC"
   },
   "outputs": [],
   "source": [
    "importlib.reload(spike);"
   ]
  },
  {
   "cell_type": "markdown",
   "metadata": {
    "colab_type": "text",
    "id": "o9WMyI5-NCnv"
   },
   "source": [
    "# Recovery"
   ]
  },
  {
   "cell_type": "code",
   "execution_count": null,
   "metadata": {
    "colab": {},
    "colab_type": "code",
    "id": "6ZGTvWTqnNfK"
   },
   "outputs": [],
   "source": [
    "# architecture\n",
    "latent_dim = 15\n",
    "hid_dim = 250 # hidden layer width\n",
    "space_dim  = 1700 # ouptut dim\n",
    "layers = [latent_dim, hid_dim, space_dim]\n",
    "\n",
    "# Random Generative Network\n",
    "GenNet = gnl.createRandGenNet(layers = layers, bias = False, Freeze = True).cuda()\n",
    "\n",
    "# target latent vector\n",
    "xstar = Variable(torch.zeros(latent_dim)) # the target point is zstar = e_2 \n",
    "xstar.data[1] = 1\n",
    "xstar = xstar.cuda()\n",
    "\n",
    "# target vector in the range of G\n",
    "ystar = GenNet(xstar);\n",
    "xstar = xstar/ystar.norm(2) # scale it so that ystar is unit norm (use homogeneity)\n",
    "ystar = GenNet(xstar);"
   ]
  },
  {
   "cell_type": "code",
   "execution_count": null,
   "metadata": {
    "colab": {
     "base_uri": "https://localhost:8080/",
     "height": 51
    },
    "colab_type": "code",
    "executionInfo": {
     "elapsed": 311,
     "status": "ok",
     "timestamp": 1591751047750,
     "user": {
      "displayName": "Jorio Cocola",
      "photoUrl": "",
      "userId": "02600605587789438117"
     },
     "user_tz": 240
    },
    "id": "ZIMPh2wYR45h",
    "outputId": "6e72abd5-6040-45a5-f1b4-1c81a0bba9f4"
   },
   "outputs": [
    {
     "data": {
      "text/plain": [
       "tensor([0.0000, 0.4671, 0.0000, 0.0000, 0.0000, 0.0000, 0.0000, 0.0000, 0.0000,\n",
       "        0.0000, 0.0000, 0.0000, 0.0000, 0.0000, 0.0000], device='cuda:0')"
      ]
     },
     "execution_count": 14,
     "metadata": {
      "tags": []
     },
     "output_type": "execute_result"
    }
   ],
   "source": [
    "xstar"
   ]
  },
  {
   "cell_type": "code",
   "execution_count": null,
   "metadata": {
    "colab": {},
    "colab_type": "code",
    "id": "Ge0Y8tWbOVLt"
   },
   "outputs": [],
   "source": [
    "# recovery param\n",
    "Nsamples = 250 # samples 250 iid points from the spiked covariance model \n",
    "sigma = .5\n",
    "\n",
    "# empirical covariance matrix\n",
    "SigmaN = spike.spike_Covn(GenNet, xstar, Nsamples, sigma);\n",
    "# empirical covariance minus noise part\n",
    "M = SigmaN - (sigma**2)*torch.eye(len(ystar)).cuda();\n",
    "# exact low rank component\n",
    "Yts = torch.ger(ystar,ystar)"
   ]
  },
  {
   "cell_type": "code",
   "execution_count": null,
   "metadata": {
    "colab": {},
    "colab_type": "code",
    "id": "eF180Wk_Njbq"
   },
   "outputs": [],
   "source": [
    "#optimization params\n",
    "Nsteps = 2500\n",
    "LR  = 0.005\n",
    "sigma0 = 0.0001 # we randomly initialize the iterates from x_0 \\mathcal{N}(0, \\sigma0^2 I)"
   ]
  },
  {
   "cell_type": "code",
   "execution_count": null,
   "metadata": {
    "colab": {},
    "colab_type": "code",
    "id": "p8WRMTCUNNFg"
   },
   "outputs": [],
   "source": [
    "# defining the two starting points\n",
    "z0 = sigma0*torch.randn(latent_dim).cuda()\n",
    "z01 = Variable(z0, requires_grad=True);\n",
    "z02 = Variable((-1.)*z0[:], requires_grad=True);"
   ]
  },
  {
   "cell_type": "code",
   "execution_count": null,
   "metadata": {
    "colab": {
     "base_uri": "https://localhost:8080/",
     "height": 51
    },
    "colab_type": "code",
    "executionInfo": {
     "elapsed": 4748,
     "status": "ok",
     "timestamp": 1591751110599,
     "user": {
      "displayName": "Jorio Cocola",
      "photoUrl": "",
      "userId": "02600605587789438117"
     },
     "user_tz": 240
    },
    "id": "vsTCs3uRQa8D",
    "outputId": "ce5690fd-16a4-4196-febb-1f303ca3996d"
   },
   "outputs": [
    {
     "name": "stdout",
     "output_type": "stream",
     "text": [
      "CPU times: user 3.47 s, sys: 378 ms, total: 3.85 s\n",
      "Wall time: 3.91 s\n"
     ]
    }
   ],
   "source": [
    "%%time\n",
    "[latent_param1, LOGS1] = spike.latent_GD(GenNet, M, Yts, z01, spike.frob_loss, ystar, learning_rate=LR, num_steps=Nsteps)"
   ]
  },
  {
   "cell_type": "code",
   "execution_count": null,
   "metadata": {
    "colab": {},
    "colab_type": "code",
    "id": "gl6A39cGQjvF"
   },
   "outputs": [],
   "source": [
    "[latent_param2, LOGS2] = spike.latent_GD(GenNet, M, Yts, z02, spike.frob_loss, ystar, learning_rate=LR, num_steps=Nsteps)"
   ]
  },
  {
   "cell_type": "code",
   "execution_count": null,
   "metadata": {
    "colab": {
     "base_uri": "https://localhost:8080/",
     "height": 296
    },
    "colab_type": "code",
    "executionInfo": {
     "elapsed": 816,
     "status": "ok",
     "timestamp": 1591751410029,
     "user": {
      "displayName": "Jorio Cocola",
      "photoUrl": "",
      "userId": "02600605587789438117"
     },
     "user_tz": 240
    },
    "id": "A4lsXyxJQlTN",
    "outputId": "394ab704-b3a4-4aa1-c788-b297eeb06de7"
   },
   "outputs": [
    {
     "data": {
      "text/plain": [
       "Text(0.5, 0, 'Iterations')"
      ]
     },
     "execution_count": 23,
     "metadata": {
      "tags": []
     },
     "output_type": "execute_result"
    },
    {
     "data": {
      "image/png": "[encoded data removed]",
      "text/plain": [
       "<Figure size 432x288 with 1 Axes>"
      ]
     },
     "metadata": {
      "needs_background": "light",
      "tags": []
     },
     "output_type": "display_data"
    }
   ],
   "source": [
    "plt.plot(LOGS1['l2_loss'])\n",
    "plt.plot(LOGS2['l2_loss'])\n",
    "plt.ylabel('MSE')\n",
    "plt.xlabel('Iterations')"
   ]
  },
  {
   "cell_type": "code",
   "execution_count": null,
   "metadata": {
    "colab": {
     "base_uri": "https://localhost:8080/",
     "height": 313
    },
    "colab_type": "code",
    "executionInfo": {
     "elapsed": 4824,
     "status": "ok",
     "timestamp": 1591751702387,
     "user": {
      "displayName": "Jorio Cocola",
      "photoUrl": "",
      "userId": "02600605587789438117"
     },
     "user_tz": 240
    },
    "id": "LpWN6U0WQ9f7",
    "outputId": "64149855-094a-446e-e36d-318ac980173b"
   },
   "outputs": [
    {
     "name": "stdout",
     "output_type": "stream",
     "text": [
      "Final angle 0.9933673143386841\n"
     ]
    },
    {
     "data": {
      "text/plain": [
       "Text(0.5, 0, 'Iterations')"
      ]
     },
     "execution_count": 29,
     "metadata": {
      "tags": []
     },
     "output_type": "execute_result"
    },
    {
     "data": {
      "image/png": "[encoded data removed]",
      "text/plain": [
       "<Figure size 432x288 with 1 Axes>"
      ]
     },
     "metadata": {
      "needs_background": "light",
      "tags": []
     },
     "output_type": "display_data"
    }
   ],
   "source": [
    "plt.plot(LOGS1['angle_loss']);\n",
    "plt.plot(LOGS2['angle_loss']);\n",
    "print('Final angle', LOGS2['angle_loss'][-1]);\n",
    "plt.ylabel(r'Angle($y_\\star, G(\\hat{x})$)');\n",
    "plt.xlabel(r'Iterations')"
   ]
  },
  {
   "cell_type": "code",
   "execution_count": null,
   "metadata": {
    "colab": {},
    "colab_type": "code",
    "id": "LmgR6_aTS8hm"
   },
   "outputs": [],
   "source": []
  }
 ],
 "metadata": {
  "accelerator": "GPU",
  "colab": {
   "collapsed_sections": [],
   "name": "Recovery_Wishart.ipynb",
   "provenance": []
  },
  "kernelspec": {
   "display_name": "Python 3",
   "language": "python",
   "name": "python3"
  },
  "language_info": {
   "codemirror_mode": {
    "name": "ipython",
    "version": 3
   },
   "file_extension": ".py",
   "mimetype": "text/x-python",
   "name": "python",
   "nbconvert_exporter": "python",
   "pygments_lexer": "ipython3",
   "version": "3.8.3"
  }
 },
 "nbformat": 4,
 "nbformat_minor": 4
}
