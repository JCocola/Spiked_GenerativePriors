{
 "cells": [
  {
   "cell_type": "markdown",
   "metadata": {
    "id": "48MgOLJamOVh"
   },
   "source": [
    "This code is used to compute error curves as in Figure 1 of the paper.\n",
    "Recovery in the Wigner model\n",
    "---\n",
    "\n",
    "experiment with 3 different networks  with same hidden and output layer dimensions and different latent space dimension."
   ]
  },
  {
   "cell_type": "code",
   "execution_count": 1,
   "metadata": {
    "executionInfo": {
     "elapsed": 467,
     "status": "ok",
     "timestamp": 1603340980935,
     "user": {
      "displayName": "Jorio Cocola",
      "photoUrl": "",
      "userId": "02600605587789438117"
     },
     "user_tz": 240
    },
    "id": "E0e7rIuilTSz"
   },
   "outputs": [],
   "source": [
    "import numpy as np\n",
    "import matplotlib.pyplot as plt\n",
    "%matplotlib inline\n",
    "import math\n",
    "import importlib"
   ]
  },
  {
   "cell_type": "code",
   "execution_count": 2,
   "metadata": {
    "executionInfo": {
     "elapsed": 4120,
     "status": "ok",
     "timestamp": 1603340984599,
     "user": {
      "displayName": "Jorio Cocola",
      "photoUrl": "",
      "userId": "02600605587789438117"
     },
     "user_tz": 240
    },
    "id": "YuDNAoXzlTS7"
   },
   "outputs": [],
   "source": [
    "import torch\n",
    "from torch.autograd import Variable\n",
    "import torch.nn as nn\n",
    "import torch.nn.functional as F\n",
    "import torch.utils.data\n",
    "import torch.optim as optim\n",
    "import torchvision\n",
    "from torchvision import datasets, transforms"
   ]
  },
  {
   "cell_type": "code",
   "execution_count": 3,
   "metadata": {
    "colab": {
     "base_uri": "https://localhost:8080/",
     "height": 34
    },
    "executionInfo": {
     "elapsed": 118582,
     "status": "ok",
     "timestamp": 1603341099145,
     "user": {
      "displayName": "Jorio Cocola",
      "photoUrl": "",
      "userId": "02600605587789438117"
     },
     "user_tz": 240
    },
    "id": "ZS1HvdQkyNO4",
    "outputId": "bc446836-9263-4087-8305-a2056979ab3b"
   },
   "outputs": [
    {
     "name": "stdout",
     "output_type": "stream",
     "text": [
      "Mounted at /content/gdrive/\n"
     ]
    }
   ],
   "source": [
    "from google.colab import drive\n",
    "drive.mount('/content/gdrive/')"
   ]
  },
  {
   "cell_type": "code",
   "execution_count": 4,
   "metadata": {
    "executionInfo": {
     "elapsed": 378,
     "status": "ok",
     "timestamp": 1603341196165,
     "user": {
      "displayName": "Jorio Cocola",
      "photoUrl": "",
      "userId": "02600605587789438117"
     },
     "user_tz": 240
    },
    "id": "vjDRRcfPyYYh"
   },
   "outputs": [],
   "source": [
    "import sys\n",
    "PATH = '/content/gdrive/My Drive/Colab Notebooks/NEURIPS20'\n",
    "sys.path.append(PATH)"
   ]
  },
  {
   "cell_type": "code",
   "execution_count": 5,
   "metadata": {
    "executionInfo": {
     "elapsed": 1883,
     "status": "ok",
     "timestamp": 1603341199288,
     "user": {
      "displayName": "Jorio Cocola",
      "photoUrl": "",
      "userId": "02600605587789438117"
     },
     "user_tz": 240
    },
    "id": "oxWl_kHClTS_"
   },
   "outputs": [],
   "source": [
    "import generative as gnl\n",
    "import utils\n",
    "import spike_lib as spike"
   ]
  },
  {
   "cell_type": "code",
   "execution_count": 6,
   "metadata": {
    "executionInfo": {
     "elapsed": 524,
     "status": "ok",
     "timestamp": 1603341200427,
     "user": {
      "displayName": "Jorio Cocola",
      "photoUrl": "",
      "userId": "02600605587789438117"
     },
     "user_tz": 240
    },
    "id": "TmRY57hulTTC"
   },
   "outputs": [],
   "source": [
    "importlib.reload(spike);"
   ]
  },
  {
   "cell_type": "code",
   "execution_count": 18,
   "metadata": {
    "colab": {
     "base_uri": "https://localhost:8080/",
     "height": 34
    },
    "executionInfo": {
     "elapsed": 378,
     "status": "ok",
     "timestamp": 1603341740817,
     "user": {
      "displayName": "Jorio Cocola",
      "photoUrl": "",
      "userId": "02600605587789438117"
     },
     "user_tz": 240
    },
    "id": "ht8G5vO4nU27",
    "outputId": "a595418a-99eb-4371-b6b5-bc8ab8bbd5b9"
   },
   "outputs": [
    {
     "name": "stdout",
     "output_type": "stream",
     "text": [
      "/content/gdrive/My Drive/Colab Notebooks/NEURIPS20/RESULTS/WG\n"
     ]
    }
   ],
   "source": [
    "PATH_res = PATH + '/RESULTS/WG'\n",
    "print(PATH_res)"
   ]
  },
  {
   "cell_type": "markdown",
   "metadata": {
    "id": "OutO5iy7xrzr"
   },
   "source": [
    "# COMPUTATIONS"
   ]
  },
  {
   "cell_type": "code",
   "execution_count": 19,
   "metadata": {
    "colab": {
     "base_uri": "https://localhost:8080/",
     "height": 51
    },
    "executionInfo": {
     "elapsed": 622,
     "status": "ok",
     "timestamp": 1603341750984,
     "user": {
      "displayName": "Jorio Cocola",
      "photoUrl": "",
      "userId": "02600605587789438117"
     },
     "user_tz": 240
    },
    "id": "vh3uhhghmemr",
    "outputId": "f879c571-4424-46ea-b586-47d6f1ebcc7b"
   },
   "outputs": [
    {
     "name": "stdout",
     "output_type": "stream",
     "text": [
      "[0.01       0.28714286 0.56428571 0.84142857 1.11857143 1.39571429\n",
      " 1.67285714 1.95      ]\n"
     ]
    }
   ],
   "source": [
    "# control parameter\n",
    "p = np.linspace(0.01, 1.95, 8)\n",
    "# number of Monte Carlo runs\n",
    "NMC = 75\n",
    "print(p)\n",
    "\n",
    "hid_dim = 250 # hidden layer width\n",
    "space_dim  = 1700 # ouptut dim\n",
    "layers = [10, hid_dim, space_dim] \n",
    "th = np.log((layers[1]**2)*layers[2]) "
   ]
  },
  {
   "cell_type": "code",
   "execution_count": 25,
   "metadata": {
    "colab": {
     "base_uri": "https://localhost:8080/",
     "height": 34
    },
    "executionInfo": {
     "elapsed": 433,
     "status": "ok",
     "timestamp": 1603342515680,
     "user": {
      "displayName": "Jorio Cocola",
      "photoUrl": "",
      "userId": "02600605587789438117"
     },
     "user_tz": 240
    },
    "id": "QsXKudO_bJ0c",
    "outputId": "ace5ada0-0b8c-4e23-a659-be539d146fd5"
   },
   "outputs": [
    {
     "name": "stdout",
     "output_type": "stream",
     "text": [
      "/content/gdrive/My Drive/Colab Notebooks/NEURIPS20/RESULTS/WG\n"
     ]
    }
   ],
   "source": [
    "PATH_res = PATH + '/RESULTS/WG'\n",
    "print(PATH_res)"
   ]
  },
  {
   "cell_type": "code",
   "execution_count": 26,
   "metadata": {
    "executionInfo": {
     "elapsed": 485,
     "status": "ok",
     "timestamp": 1603342516841,
     "user": {
      "displayName": "Jorio Cocola",
      "photoUrl": "",
      "userId": "02600605587789438117"
     },
     "user_tz": 240
    },
    "id": "B6PK4VnCcycS"
   },
   "outputs": [],
   "source": [
    "#optimization params\n",
    "Nsteps = 2000\n",
    "LR  = 0.01\n",
    "sigma0 = 0.0001 # we randomly initialize the iterates from x_0 \\mathcal{N}(0, \\sigma0^2 I)\n",
    "params = [LR, Nsteps, sigma0]"
   ]
  },
  {
   "cell_type": "markdown",
   "metadata": {
    "id": "4r-wwSFAmOiJ"
   },
   "source": [
    "### $k = 10$"
   ]
  },
  {
   "cell_type": "code",
   "execution_count": 27,
   "metadata": {
    "executionInfo": {
     "elapsed": 619,
     "status": "ok",
     "timestamp": 1603342517903,
     "user": {
      "displayName": "Jorio Cocola",
      "photoUrl": "",
      "userId": "02600605587789438117"
     },
     "user_tz": 240
    },
    "id": "9mmAYxOHmYNK"
   },
   "outputs": [],
   "source": [
    "# architecture\n",
    "latent_dim = 10\n",
    "layers = [latent_dim, hid_dim, space_dim]\n",
    "\n",
    "# target latent vector\n",
    "xstar = Variable(torch.zeros(latent_dim)) # the target point is zstar = e_2 \n",
    "xstar.data[1] = 1\n",
    "xstar = xstar.cuda()"
   ]
  },
  {
   "cell_type": "code",
   "execution_count": 28,
   "metadata": {
    "colab": {
     "base_uri": "https://localhost:8080/",
     "height": 68
    },
    "executionInfo": {
     "elapsed": 573,
     "status": "ok",
     "timestamp": 1603342518334,
     "user": {
      "displayName": "Jorio Cocola",
      "photoUrl": "",
      "userId": "02600605587789438117"
     },
     "user_tz": 240
    },
    "id": "1zT6h_1bsh6H",
    "outputId": "6fbd12a9-f40f-41dc-9b79-2db41b778ee1"
   },
   "outputs": [
    {
     "name": "stdout",
     "output_type": "stream",
     "text": [
      "NU used \n",
      " [0.030329   0.87087567 1.71142233 2.551969   3.39251566 4.23306233\n",
      " 5.07360899 5.91415566]\n"
     ]
    }
   ],
   "source": [
    "k10_logs_mean = np.zeros([len(p),6])\n",
    "k10_logs_std = np.zeros([len(p),6])\n",
    "\n",
    "# in the Wigner model we vary the noise level nu of the GOE matrix H\n",
    "NU10 = np.sqrt(space_dim/(latent_dim*th))*p\n",
    "print('NU used \\n', NU10)"
   ]
  },
  {
   "cell_type": "code",
   "execution_count": 29,
   "metadata": {
    "colab": {
     "base_uri": "https://localhost:8080/",
     "height": 187
    },
    "executionInfo": {
     "elapsed": 2059528,
     "status": "ok",
     "timestamp": 1603344577638,
     "user": {
      "displayName": "Jorio Cocola",
      "photoUrl": "",
      "userId": "02600605587789438117"
     },
     "user_tz": 240
    },
    "id": "jqoNS4piTJTt",
    "outputId": "989175ac-8501-4cc1-e238-0debc360363b"
   },
   "outputs": [
    {
     "name": "stdout",
     "output_type": "stream",
     "text": [
      "0\n",
      "1\n",
      "2\n",
      "3\n",
      "4\n",
      "5\n",
      "6\n",
      "7\n",
      "CPU times: user 32min 39s, sys: 1min 17s, total: 33min 56s\n",
      "Wall time: 34min 18s\n"
     ]
    }
   ],
   "source": [
    "%%time\n",
    "for ix, nu in enumerate(NU10):\n",
    "    print(ix)\n",
    "    [LOGS_mean, LOGS_std] = spike.MC_expr_Wigner(NMC, xstar, layers, nu, params, normalize = True)\n",
    "    k10_logs_mean[ix,:] = LOGS_mean\n",
    "    k10_logs_std[ix,:] = LOGS_std\n",
    "    np.save(PATH_res+'/k10_logs_mean.npy', k10_logs_mean)\n",
    "    np.save(PATH_res+'/k10_logs_std.npy', k10_logs_std)"
   ]
  },
  {
   "cell_type": "markdown",
   "metadata": {
    "id": "NwdQ5muCvvEC"
   },
   "source": [
    "### $k = 30$"
   ]
  },
  {
   "cell_type": "code",
   "execution_count": 30,
   "metadata": {
    "executionInfo": {
     "elapsed": 2051842,
     "status": "ok",
     "timestamp": 1603344577651,
     "user": {
      "displayName": "Jorio Cocola",
      "photoUrl": "",
      "userId": "02600605587789438117"
     },
     "user_tz": 240
    },
    "id": "E6g4l0ikvvEF"
   },
   "outputs": [],
   "source": [
    "# architecture\n",
    "latent_dim = 30\n",
    "layers = [latent_dim, hid_dim, space_dim]\n",
    "\n",
    "# target latent vector\n",
    "xstar = Variable(torch.zeros(latent_dim)) # the target point is zstar = e_2 \n",
    "xstar.data[1] = 1\n",
    "xstar = xstar.cuda()"
   ]
  },
  {
   "cell_type": "code",
   "execution_count": 31,
   "metadata": {
    "colab": {
     "base_uri": "https://localhost:8080/",
     "height": 68
    },
    "executionInfo": {
     "elapsed": 2051784,
     "status": "ok",
     "timestamp": 1603344577684,
     "user": {
      "displayName": "Jorio Cocola",
      "photoUrl": "",
      "userId": "02600605587789438117"
     },
     "user_tz": 240
    },
    "id": "JdL9EoaqvvEW",
    "outputId": "29726171-47ce-4095-ceeb-8d62615c9433"
   },
   "outputs": [
    {
     "name": "stdout",
     "output_type": "stream",
     "text": [
      "NU used \n",
      " [0.01751046 0.5028003  0.98809014 1.47337999 1.95866983 2.44395967\n",
      " 2.92924952 3.41453936]\n"
     ]
    }
   ],
   "source": [
    "k30_logs_mean = np.zeros([len(p),6])\n",
    "k30_logs_std = np.zeros([len(p),6])\n",
    "\n",
    "NU30 = np.sqrt(space_dim/(latent_dim*th))*p\n",
    "print('NU used \\n', NU30)"
   ]
  },
  {
   "cell_type": "code",
   "execution_count": 32,
   "metadata": {
    "colab": {
     "base_uri": "https://localhost:8080/",
     "height": 187
    },
    "executionInfo": {
     "elapsed": 21026,
     "status": "ok",
     "timestamp": 1603346621137,
     "user": {
      "displayName": "Jorio Cocola",
      "photoUrl": "",
      "userId": "02600605587789438117"
     },
     "user_tz": 240
    },
    "id": "MLzKwTZavvEd",
    "outputId": "e757d201-445c-4765-9e8a-393df5141170"
   },
   "outputs": [
    {
     "name": "stdout",
     "output_type": "stream",
     "text": [
      "0\n",
      "1\n",
      "2\n",
      "3\n",
      "4\n",
      "5\n",
      "6\n",
      "7\n",
      "CPU times: user 32min 25s, sys: 1min 17s, total: 33min 42s\n",
      "Wall time: 34min 3s\n"
     ]
    }
   ],
   "source": [
    "%%time\n",
    "for ix, nu in enumerate(NU30):\n",
    "    print(ix)\n",
    "    [LOGS_mean, LOGS_std] = spike.MC_expr_Wigner(NMC, xstar, layers, nu, params, normalize = True)\n",
    "    k30_logs_mean[ix,:] = LOGS_mean\n",
    "    k30_logs_std[ix,:] = LOGS_std\n",
    "    np.save(PATH_res+'/k30_logs_mean.npy', k30_logs_mean)\n",
    "    np.save(PATH_res+'/k30_logs_std.npy', k30_logs_std)"
   ]
  },
  {
   "cell_type": "markdown",
   "metadata": {
    "id": "lM1hrc__-UBd"
   },
   "source": [
    "### $k = 70$"
   ]
  },
  {
   "cell_type": "code",
   "execution_count": 33,
   "metadata": {
    "executionInfo": {
     "elapsed": 139,
     "status": "ok",
     "timestamp": 1603346621141,
     "user": {
      "displayName": "Jorio Cocola",
      "photoUrl": "",
      "userId": "02600605587789438117"
     },
     "user_tz": 240
    },
    "id": "FL5V9ULI-UBg"
   },
   "outputs": [],
   "source": [
    "# architecture\n",
    "latent_dim = 70\n",
    "layers = [latent_dim, hid_dim, space_dim]\n",
    "\n",
    "# target latent vector\n",
    "xstar = Variable(torch.zeros(latent_dim)) # the target point is zstar = e_2 \n",
    "xstar.data[1] = 1\n",
    "xstar = xstar.cuda()"
   ]
  },
  {
   "cell_type": "code",
   "execution_count": 34,
   "metadata": {
    "colab": {
     "base_uri": "https://localhost:8080/",
     "height": 68
    },
    "executionInfo": {
     "elapsed": 66,
     "status": "ok",
     "timestamp": 1603346621143,
     "user": {
      "displayName": "Jorio Cocola",
      "photoUrl": "",
      "userId": "02600605587789438117"
     },
     "user_tz": 240
    },
    "id": "ItQCMkJ5O7xH",
    "outputId": "d0e49d2c-4e01-4032-9b31-3844c04e7963"
   },
   "outputs": [
    {
     "name": "stdout",
     "output_type": "stream",
     "text": [
      "NU used \n",
      " [0.01146329 0.32916006 0.64685684 0.96455362 1.28225039 1.59994717\n",
      " 1.91764395 2.23534073]\n"
     ]
    }
   ],
   "source": [
    "k70_logs_mean = np.zeros([len(p),6])\n",
    "k70_logs_std = np.zeros([len(p),6])\n",
    "\n",
    "NU70 = np.sqrt(space_dim/(latent_dim*th))*p\n",
    "print('NU used \\n', NU70)"
   ]
  },
  {
   "cell_type": "code",
   "execution_count": 35,
   "metadata": {
    "colab": {
     "base_uri": "https://localhost:8080/",
     "height": 187
    },
    "executionInfo": {
     "elapsed": 2082084,
     "status": "ok",
     "timestamp": 1603348703191,
     "user": {
      "displayName": "Jorio Cocola",
      "photoUrl": "",
      "userId": "02600605587789438117"
     },
     "user_tz": 240
    },
    "id": "mVDDICaA-UBy",
    "outputId": "fe1b6d41-d821-4ab0-bf28-a31eb098c2d3"
   },
   "outputs": [
    {
     "name": "stdout",
     "output_type": "stream",
     "text": [
      "0\n",
      "1\n",
      "2\n",
      "3\n",
      "4\n",
      "5\n",
      "6\n",
      "7\n",
      "CPU times: user 33min, sys: 1min 19s, total: 34min 19s\n",
      "Wall time: 34min 42s\n"
     ]
    }
   ],
   "source": [
    "%%time\n",
    "for ix, nu in enumerate(NU70):\n",
    "    print(ix)\n",
    "    [LOGS_mean, LOGS_std] = spike.MC_expr_Wigner(NMC, xstar, layers, nu, params, normalize = True)\n",
    "    k70_logs_mean[ix,:] = LOGS_mean\n",
    "    k70_logs_std[ix,:] = LOGS_std\n",
    "    np.save(PATH_res+'/k70_logs_mean.npy', k70_logs_mean)\n",
    "    np.save(PATH_res+'/k70_logs_std.npy', k70_logs_std)"
   ]
  },
  {
   "cell_type": "markdown",
   "metadata": {
    "id": "6Jj36HVsXzOd"
   },
   "source": [
    "# Comparisons"
   ]
  },
  {
   "cell_type": "code",
   "execution_count": 38,
   "metadata": {
    "colab": {
     "base_uri": "https://localhost:8080/",
     "height": 304
    },
    "executionInfo": {
     "elapsed": 591,
     "status": "ok",
     "timestamp": 1603350167901,
     "user": {
      "displayName": "Jorio Cocola",
      "photoUrl": "",
      "userId": "02600605587789438117"
     },
     "user_tz": 240
    },
    "id": "K3Wajy2ejIxO",
    "outputId": "f13c8dc6-b3f8-4a49-a117-25f21b9cc31e"
   },
   "outputs": [
    {
     "data": {
      "image/png": "[encoded data removed]",
      "text/plain": [
       "<Figure size 432x288 with 1 Axes>"
      ]
     },
     "metadata": {
      "needs_background": "light",
      "tags": []
     },
     "output_type": "display_data"
    }
   ],
   "source": [
    "plt.plot((p), k10_logs_mean[:,1], '-*',label = 'k = 10')\n",
    "plt.plot((p), k30_logs_mean[:,1], 'k-*',label = 'k = 30')\n",
    "plt.plot((p), k70_logs_mean[:,1], '-*',label = 'k = 70')\n",
    "plt.legend(loc='upper left');\n",
    "plt.xlabel(r\"$\\theta_{WG}$\", fontsize=16);\n",
    "plt.ylabel(r\"Reconstruction\", fontsize=16);\n",
    "plt.title('Spiked Wigner Model');\n",
    "plt.savefig(PATH_res+'/MSE_WG_new.pdf',bbox_inches = 'tight')"
   ]
  },
  {
   "cell_type": "code",
   "execution_count": null,
   "metadata": {
    "id": "z1CZF_J9HewZ"
   },
   "outputs": [],
   "source": []
  }
 ],
 "metadata": {
  "accelerator": "GPU",
  "colab": {
   "collapsed_sections": [],
   "name": "Scaling_Wigner.ipynb",
   "provenance": []
  },
  "kernelspec": {
   "display_name": "Python 3",
   "language": "python",
   "name": "python3"
  },
  "language_info": {
   "codemirror_mode": {
    "name": "ipython",
    "version": 3
   },
   "file_extension": ".py",
   "mimetype": "text/x-python",
   "name": "python",
   "nbconvert_exporter": "python",
   "pygments_lexer": "ipython3",
   "version": "3.8.3"
  }
 },
 "nbformat": 4,
 "nbformat_minor": 4
}
