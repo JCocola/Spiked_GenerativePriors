{
 "cells": [
  {
   "cell_type": "markdown",
   "metadata": {
    "id": "48MgOLJamOVh"
   },
   "source": [
    "This code is used to compute error curves as in Figure 1 of the paper.\n",
    "Recovery in the Wishart model\n",
    "---\n",
    "\n",
    "Experiment with 3 different networks  with same hidden and output layer dimensions and different latent space dimension.\n",
    "\n",
    "The results are the average of 50 Monte Carlo runs\n"
   ]
  },
  {
   "cell_type": "code",
   "execution_count": 61,
   "metadata": {
    "executionInfo": {
     "elapsed": 540,
     "status": "ok",
     "timestamp": 1603340593736,
     "user": {
      "displayName": "Jorio Cocola",
      "photoUrl": "",
      "userId": "02600605587789438117"
     },
     "user_tz": 240
    },
    "id": "E0e7rIuilTSz"
   },
   "outputs": [],
   "source": [
    "import numpy as np\n",
    "import matplotlib.pyplot as plt\n",
    "%matplotlib inline\n",
    "import math\n",
    "import importlib"
   ]
  },
  {
   "cell_type": "code",
   "execution_count": 62,
   "metadata": {
    "colab": {
     "base_uri": "https://localhost:8080/",
     "height": 34
    },
    "executionInfo": {
     "elapsed": 450,
     "status": "ok",
     "timestamp": 1603340594902,
     "user": {
      "displayName": "Jorio Cocola",
      "photoUrl": "",
      "userId": "02600605587789438117"
     },
     "user_tz": 240
    },
    "id": "mQd58h-0iLn9",
    "outputId": "313858aa-3d50-431c-aa26-5d94a7d230d4"
   },
   "outputs": [
    {
     "name": "stdout",
     "output_type": "stream",
     "text": [
      "Drive already mounted at /content/gdrive/; to attempt to forcibly remount, call drive.mount(\"/content/gdrive/\", force_remount=True).\n"
     ]
    }
   ],
   "source": [
    "from google.colab import drive\n",
    "drive.mount('/content/gdrive/')"
   ]
  },
  {
   "cell_type": "code",
   "execution_count": 63,
   "metadata": {
    "executionInfo": {
     "elapsed": 910,
     "status": "ok",
     "timestamp": 1603340615463,
     "user": {
      "displayName": "Jorio Cocola",
      "photoUrl": "",
      "userId": "02600605587789438117"
     },
     "user_tz": 240
    },
    "id": "YuDNAoXzlTS7"
   },
   "outputs": [],
   "source": [
    "import torch\n",
    "from torch.autograd import Variable\n",
    "import torch.nn as nn\n",
    "import torch.nn.functional as F\n",
    "import torch.utils.data\n",
    "import torch.optim as optim\n",
    "import torchvision\n",
    "from torchvision import datasets, transforms"
   ]
  },
  {
   "cell_type": "code",
   "execution_count": 64,
   "metadata": {
    "executionInfo": {
     "elapsed": 1050,
     "status": "ok",
     "timestamp": 1603340615644,
     "user": {
      "displayName": "Jorio Cocola",
      "photoUrl": "",
      "userId": "02600605587789438117"
     },
     "user_tz": 240
    },
    "id": "vjDRRcfPyYYh"
   },
   "outputs": [],
   "source": [
    "import sys\n",
    "PATH = '/content/gdrive/My Drive/Colab Notebooks/NEURIPS20'\n",
    "sys.path.append(PATH)"
   ]
  },
  {
   "cell_type": "code",
   "execution_count": 65,
   "metadata": {
    "executionInfo": {
     "elapsed": 1026,
     "status": "ok",
     "timestamp": 1603340615645,
     "user": {
      "displayName": "Jorio Cocola",
      "photoUrl": "",
      "userId": "02600605587789438117"
     },
     "user_tz": 240
    },
    "id": "oxWl_kHClTS_"
   },
   "outputs": [],
   "source": [
    "import generative as gnl\n",
    "import utils\n",
    "import spike_lib as spike"
   ]
  },
  {
   "cell_type": "code",
   "execution_count": 66,
   "metadata": {
    "executionInfo": {
     "elapsed": 998,
     "status": "ok",
     "timestamp": 1603340615646,
     "user": {
      "displayName": "Jorio Cocola",
      "photoUrl": "",
      "userId": "02600605587789438117"
     },
     "user_tz": 240
    },
    "id": "TmRY57hulTTC"
   },
   "outputs": [],
   "source": [
    "importlib.reload(spike);"
   ]
  },
  {
   "cell_type": "markdown",
   "metadata": {
    "id": "QAHRjEykQJc_"
   },
   "source": [
    "## Parameters"
   ]
  },
  {
   "cell_type": "code",
   "execution_count": 67,
   "metadata": {
    "colab": {
     "base_uri": "https://localhost:8080/",
     "height": 51
    },
    "executionInfo": {
     "elapsed": 963,
     "status": "ok",
     "timestamp": 1603340615647,
     "user": {
      "displayName": "Jorio Cocola",
      "photoUrl": "",
      "userId": "02600605587789438117"
     },
     "user_tz": 240
    },
    "id": "U76K0UwMcTfG",
    "outputId": "d9351550-1840-4529-b32f-bed6b8d79138"
   },
   "outputs": [
    {
     "name": "stdout",
     "output_type": "stream",
     "text": [
      "[1.5        2.31428571 3.12857143 3.94285714 4.75714286 5.57142857\n",
      " 6.38571429 7.2       ]\n"
     ]
    }
   ],
   "source": [
    "# control parameter\n",
    "p = np.linspace(1.5, 7.2, 8)\n",
    "print(p)\n",
    "\n",
    "# number of Monte Carlo runs\n",
    "NMC = 75\n",
    "\n",
    "hid_dim = 250 # hidden layer width\n",
    "space_dim  = 1700 # ouptut dim\n",
    "layers = [_, hid_dim, space_dim] \n",
    "th = np.log((layers[1]**2)*layers[2]) \n",
    "\n",
    "sigma = 1. # we fix sigma\n",
    "w = 1"
   ]
  },
  {
   "cell_type": "code",
   "execution_count": 68,
   "metadata": {
    "executionInfo": {
     "elapsed": 1243,
     "status": "ok",
     "timestamp": 1603340615955,
     "user": {
      "displayName": "Jorio Cocola",
      "photoUrl": "",
      "userId": "02600605587789438117"
     },
     "user_tz": 240
    },
    "id": "nX2dEJzAclDo"
   },
   "outputs": [],
   "source": [
    "#optimization params\n",
    "Nsteps = 2500\n",
    "LR  = 0.005\n",
    "sigma0 = 0.0001 # we randomly initialize the iterates from x_0 \\mathcal{N}(0, \\sigma0^2 I)\n",
    "params = [LR, Nsteps, sigma, sigma0]"
   ]
  },
  {
   "cell_type": "code",
   "execution_count": 69,
   "metadata": {
    "colab": {
     "base_uri": "https://localhost:8080/",
     "height": 34
    },
    "executionInfo": {
     "elapsed": 1229,
     "status": "ok",
     "timestamp": 1603340615961,
     "user": {
      "displayName": "Jorio Cocola",
      "photoUrl": "",
      "userId": "02600605587789438117"
     },
     "user_tz": 240
    },
    "id": "2blGORWHclf-",
    "outputId": "12dbeff1-a4b2-427c-b5bb-21ff86e5c22a"
   },
   "outputs": [
    {
     "name": "stdout",
     "output_type": "stream",
     "text": [
      "/content/gdrive/My Drive/Colab Notebooks/NEURIPS20/RESULTS/WS\n"
     ]
    }
   ],
   "source": [
    "PATH_res = PATH + '/RESULTS/WS'\n",
    "print(PATH_res)"
   ]
  },
  {
   "cell_type": "markdown",
   "metadata": {
    "id": "OutO5iy7xrzr"
   },
   "source": [
    "# COMPUTATIONS"
   ]
  },
  {
   "cell_type": "markdown",
   "metadata": {
    "id": "Vr1Ux8jMd8Q0"
   },
   "source": [
    "## k = 10"
   ]
  },
  {
   "cell_type": "code",
   "execution_count": 70,
   "metadata": {
    "colab": {
     "base_uri": "https://localhost:8080/",
     "height": 51
    },
    "executionInfo": {
     "elapsed": 1189,
     "status": "ok",
     "timestamp": 1603340615963,
     "user": {
      "displayName": "Jorio Cocola",
      "photoUrl": "",
      "userId": "02600605587789438117"
     },
     "user_tz": 240
    },
    "id": "bp7RE0kVdYyD",
    "outputId": "64e9176a-4e8a-4fd0-dec0-4ab8c28d432b"
   },
   "outputs": [
    {
     "name": "stdout",
     "output_type": "stream",
     "text": [
      "Number of samples used \n",
      " [82 34 18 11  8  5  4  3]\n"
     ]
    }
   ],
   "source": [
    "# architecture\n",
    "latent_dim = 10\n",
    "layers = [latent_dim, hid_dim, space_dim]\n",
    "\n",
    "# target latent vector\n",
    "xstar = Variable(torch.zeros(latent_dim)) # the target point is zstar = e_2 \n",
    "xstar.data[1] = 1\n",
    "xstar = xstar.cuda()\n",
    "\n",
    "# logs\n",
    "k10_logs_mean = np.zeros([len(p),6])\n",
    "k10_logs_std = np.zeros([len(p),6])\n",
    "\n",
    "# errors\n",
    "NS10 = ((w**2)*latent_dim*th/(p**2)).astype(int)\n",
    "print('Number of samples used \\n', NS10)"
   ]
  },
  {
   "cell_type": "code",
   "execution_count": 71,
   "metadata": {
    "colab": {
     "base_uri": "https://localhost:8080/",
     "height": 187
    },
    "executionInfo": {
     "elapsed": 2472510,
     "status": "ok",
     "timestamp": 1603343087363,
     "user": {
      "displayName": "Jorio Cocola",
      "photoUrl": "",
      "userId": "02600605587789438117"
     },
     "user_tz": 240
    },
    "id": "gVD2TPYSePBh",
    "outputId": "b5ce1809-2b23-4e56-e624-e6d91ad9f5ba"
   },
   "outputs": [
    {
     "name": "stdout",
     "output_type": "stream",
     "text": [
      "0\n",
      "1\n",
      "2\n",
      "3\n",
      "4\n",
      "5\n",
      "6\n",
      "7\n",
      "CPU times: user 39min 15s, sys: 1min 38s, total: 40min 54s\n",
      "Wall time: 41min 11s\n"
     ]
    }
   ],
   "source": [
    "%%time\n",
    "for ix, ns in enumerate(NS10):\n",
    "    print(ix)\n",
    "    [LOGS_mean, LOGS_std] = spike.MC_expr_PCA(NMC, xstar, layers, ns, params, normalize = True)\n",
    "    k10_logs_mean[ix,:] = LOGS_mean\n",
    "    k10_logs_std[ix,:] = LOGS_std\n",
    "    np.save(PATH_res+'/k10_logs_mean.npy', k10_logs_mean)\n",
    "    np.save(PATH_res+'/k10_logs_std.npy', k10_logs_std)"
   ]
  },
  {
   "cell_type": "markdown",
   "metadata": {
    "id": "3qgC17KyflJO"
   },
   "source": [
    "## k = 30"
   ]
  },
  {
   "cell_type": "code",
   "execution_count": 72,
   "metadata": {
    "colab": {
     "base_uri": "https://localhost:8080/",
     "height": 51
    },
    "executionInfo": {
     "elapsed": 2472501,
     "status": "ok",
     "timestamp": 1603343087384,
     "user": {
      "displayName": "Jorio Cocola",
      "photoUrl": "",
      "userId": "02600605587789438117"
     },
     "user_tz": 240
    },
    "id": "RF5rT21bflJP",
    "outputId": "0806c2b5-6549-4bcb-de7b-e62efe86e27f"
   },
   "outputs": [
    {
     "name": "stdout",
     "output_type": "stream",
     "text": [
      "Number of samples used \n",
      " [246 103  56  35  24  17  13  10]\n"
     ]
    }
   ],
   "source": [
    "# architecture\n",
    "latent_dim = 30\n",
    "layers = [latent_dim, hid_dim, space_dim]\n",
    "\n",
    "# target latent vector\n",
    "xstar = Variable(torch.zeros(latent_dim)) # the target point is zstar = e_2 \n",
    "xstar.data[1] = 1\n",
    "xstar = xstar.cuda()\n",
    "\n",
    "# logs\n",
    "k30_logs_mean = np.zeros([len(p),6])\n",
    "k30_logs_std = np.zeros([len(p),6])\n",
    "\n",
    "# errors\n",
    "NS30 = ((w**2)*latent_dim*th/(p**2)).astype(int)\n",
    "print('Number of samples used \\n', NS30)"
   ]
  },
  {
   "cell_type": "code",
   "execution_count": 73,
   "metadata": {
    "colab": {
     "base_uri": "https://localhost:8080/",
     "height": 187
    },
    "executionInfo": {
     "elapsed": 4931515,
     "status": "ok",
     "timestamp": 1603345546413,
     "user": {
      "displayName": "Jorio Cocola",
      "photoUrl": "",
      "userId": "02600605587789438117"
     },
     "user_tz": 240
    },
    "id": "tzFwP-5uflJU",
    "outputId": "f4476e4e-ae73-40e1-e6b5-0d1ff8716e6e"
   },
   "outputs": [
    {
     "name": "stdout",
     "output_type": "stream",
     "text": [
      "0\n",
      "1\n",
      "2\n",
      "3\n",
      "4\n",
      "5\n",
      "6\n",
      "7\n",
      "CPU times: user 39min 2s, sys: 1min 38s, total: 40min 41s\n",
      "Wall time: 40min 59s\n"
     ]
    }
   ],
   "source": [
    "%%time\n",
    "for ix, ns in enumerate(NS30):\n",
    "    print(ix)\n",
    "    [LOGS_mean, LOGS_std] = spike.MC_expr_PCA(NMC, xstar, layers, ns, params, normalize = True)\n",
    "    k30_logs_mean[ix,:] = LOGS_mean\n",
    "    k30_logs_std[ix,:] = LOGS_std\n",
    "    np.save(PATH_res+'/k30_logs_mean.npy', k30_logs_mean)\n",
    "    np.save(PATH_res+'/k30_logs_std.npy', k30_logs_std)"
   ]
  },
  {
   "cell_type": "markdown",
   "metadata": {
    "id": "dXdI1klagCLl"
   },
   "source": [
    "## k = 70"
   ]
  },
  {
   "cell_type": "code",
   "execution_count": 74,
   "metadata": {
    "colab": {
     "base_uri": "https://localhost:8080/",
     "height": 51
    },
    "executionInfo": {
     "elapsed": 4931505,
     "status": "ok",
     "timestamp": 1603345546425,
     "user": {
      "displayName": "Jorio Cocola",
      "photoUrl": "",
      "userId": "02600605587789438117"
     },
     "user_tz": 240
    },
    "id": "3Hd5gMoFgCLm",
    "outputId": "e6c09f25-fdd1-4252-941d-7baf64d7b108"
   },
   "outputs": [
    {
     "name": "stdout",
     "output_type": "stream",
     "text": [
      "Number of samples used \n",
      " [574 241 132  83  57  41  31  24]\n"
     ]
    }
   ],
   "source": [
    "# architecture\n",
    "latent_dim = 70\n",
    "layers = [latent_dim, hid_dim, space_dim]\n",
    "\n",
    "# target latent vector\n",
    "xstar = Variable(torch.zeros(latent_dim)) # the target point is zstar = e_2 \n",
    "xstar.data[1] = 1\n",
    "xstar = xstar.cuda()\n",
    "\n",
    "# logs\n",
    "k70_logs_mean = np.zeros([len(p),6])\n",
    "k70_logs_std = np.zeros([len(p),6])\n",
    "\n",
    "# errors\n",
    "NS70 = ((w**2)*latent_dim*th/(p**2)).astype(int)\n",
    "print('Number of samples used \\n', NS70)"
   ]
  },
  {
   "cell_type": "code",
   "execution_count": 75,
   "metadata": {
    "colab": {
     "base_uri": "https://localhost:8080/",
     "height": 187
    },
    "executionInfo": {
     "elapsed": 1410277,
     "status": "ok",
     "timestamp": 1603348011276,
     "user": {
      "displayName": "Jorio Cocola",
      "photoUrl": "",
      "userId": "02600605587789438117"
     },
     "user_tz": 240
    },
    "id": "PzQCMlnlgCLq",
    "outputId": "95744047-9d79-454a-d299-b20196cb0ac9"
   },
   "outputs": [
    {
     "name": "stdout",
     "output_type": "stream",
     "text": [
      "0\n",
      "1\n",
      "2\n",
      "3\n",
      "4\n",
      "5\n",
      "6\n",
      "7\n",
      "CPU times: user 39min 6s, sys: 1min 38s, total: 40min 45s\n",
      "Wall time: 41min 4s\n"
     ]
    }
   ],
   "source": [
    "%%time\n",
    "for ix, ns in enumerate(NS70):\n",
    "    print(ix)\n",
    "    [LOGS_mean, LOGS_std] = spike.MC_expr_PCA(NMC, xstar, layers, ns, params, normalize = True)\n",
    "    k70_logs_mean[ix,:] = LOGS_mean\n",
    "    k70_logs_std[ix,:] = LOGS_std\n",
    "    np.save(PATH_res+'/k70_logs_mean.npy', k70_logs_mean)\n",
    "    np.save(PATH_res+'/k70_logs_std.npy', k70_logs_std)"
   ]
  },
  {
   "cell_type": "markdown",
   "metadata": {
    "id": "6Jj36HVsXzOd"
   },
   "source": [
    "# Comparisons"
   ]
  },
  {
   "cell_type": "code",
   "execution_count": 76,
   "metadata": {
    "executionInfo": {
     "elapsed": 75,
     "status": "ok",
     "timestamp": 1603348011278,
     "user": {
      "displayName": "Jorio Cocola",
      "photoUrl": "",
      "userId": "02600605587789438117"
     },
     "user_tz": 240
    },
    "id": "7mqw3DaiKW2O"
   },
   "outputs": [],
   "source": [
    "k10_logs_mean = np.load(PATH_res+'/k10_logs_mean.npy')\n",
    "k30_logs_mean = np.load(PATH_res+'/k30_logs_mean.npy')\n",
    "k70_logs_mean = np.load(PATH_res+'/k70_logs_mean.npy')"
   ]
  },
  {
   "cell_type": "code",
   "execution_count": 77,
   "metadata": {
    "colab": {
     "base_uri": "https://localhost:8080/",
     "height": 308
    },
    "executionInfo": {
     "elapsed": 322,
     "status": "ok",
     "timestamp": 1603348011581,
     "user": {
      "displayName": "Jorio Cocola",
      "photoUrl": "",
      "userId": "02600605587789438117"
     },
     "user_tz": 240
    },
    "id": "K3Wajy2ejIxO",
    "outputId": "989a6966-3dd7-4885-d6ad-0f5f2f83f9cb"
   },
   "outputs": [
    {
     "data": {
      "image/png": "[encoded data removed]",
      "text/plain": [
       "<Figure size 432x288 with 1 Axes>"
      ]
     },
     "metadata": {
      "needs_background": "light",
      "tags": []
     },
     "output_type": "display_data"
    }
   ],
   "source": [
    "plt.plot((p)[1:], k10_logs_mean[1:,1], '-*',label = 'k = 10')\n",
    "plt.plot((p)[1:], k30_logs_mean[1:,1], 'k-*',label = 'k = 30')\n",
    "plt.plot((p)[1:], k70_logs_mean[1:,1], '-*',label = 'k = 70')\n",
    "plt.legend(loc='upper left');\n",
    "plt.legend(loc='upper left');\n",
    "plt.xlabel(r\"$\\theta_{WS}$\", fontsize=18);\n",
    "plt.ylabel(r\"Reconstruction Error\", fontsize=15);\n",
    "plt.title('Spiked Wishart Model', fontsize = 16);\n",
    "plt.savefig(PATH_res+'/MSE_WS_new.pdf',bbox_inches = 'tight',format='pdf')"
   ]
  },
  {
   "cell_type": "code",
   "execution_count": 78,
   "metadata": {
    "executionInfo": {
     "elapsed": 29,
     "status": "ok",
     "timestamp": 1603348011585,
     "user": {
      "displayName": "Jorio Cocola",
      "photoUrl": "",
      "userId": "02600605587789438117"
     },
     "user_tz": 240
    },
    "id": "DNK2dq5BXD6v"
   },
   "outputs": [],
   "source": []
  }
 ],
 "metadata": {
  "accelerator": "GPU",
  "colab": {
   "collapsed_sections": [],
   "name": "Scaling_Wishart.ipynb",
   "provenance": []
  },
  "kernelspec": {
   "display_name": "Python 3",
   "language": "python",
   "name": "python3"
  },
  "language_info": {
   "codemirror_mode": {
    "name": "ipython",
    "version": 3
   },
   "file_extension": ".py",
   "mimetype": "text/x-python",
   "name": "python",
   "nbconvert_exporter": "python",
   "pygments_lexer": "ipython3",
   "version": "3.8.3"
  }
 },
 "nbformat": 4,
 "nbformat_minor": 4
}
